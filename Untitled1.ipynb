{
  "cells": [
    {
      "cell_type": "markdown",
      "metadata": {
        "id": "view-in-github",
        "colab_type": "text"
      },
      "source": [
        "<a href=\"https://colab.research.google.com/github/OliverLidi/OliverLidi/blob/main/Untitled1.ipynb\" target=\"_parent\"><img src=\"https://colab.research.google.com/assets/colab-badge.svg\" alt=\"Open In Colab\"/></a>"
      ]
    },
    {
      "cell_type": "code",
      "execution_count": null,
      "metadata": {
        "colab": {
          "background_save": true,
          "base_uri": "https://localhost:8080/"
        },
        "id": "JtgQqQKhdb4W",
        "outputId": "11923b72-ddca-4321-c430-e9e004ba6300"
      },
      "outputs": [
        {
          "output_type": "stream",
          "name": "stdout",
          "text": [
            "\n",
            "Gerenciador de Tarefas\n",
            "1. Adicionar Tarefa\n",
            "2. Ver Tarefas\n",
            "3. Editar Tarefa\n",
            "4. Remover Tarefa\n",
            "5. Marcar como Concluída\n",
            "6. Sair\n"
          ]
        }
      ],
      "source": [
        "import os\n",
        "\n",
        "# Aqui vamos exibir o menu\n",
        "def exibir_menu():\n",
        "    print(\"\\nGerenciador de Tarefas\")\n",
        "    print(\"1. Adicionar Tarefa\")\n",
        "    print(\"2. Ver Tarefas\")\n",
        "    print(\"3. Editar Tarefa\")\n",
        "    print(\"4. Remover Tarefa\")\n",
        "    print(\"5. Marcar como Concluída\")\n",
        "    print(\"6. Sair\")\n",
        "\n",
        "# Aqui adicionamos uma tarefa\n",
        "def adicionar_tarefa(tarefas):\n",
        "    descricao = input(\"Digite a descrição da tarefa: \")\n",
        "    categoria = input(\"Digite a categoria (opcional): \")\n",
        "    prioridade = input(\"Digite a prioridade (alta, média, baixa): \")\n",
        "    tarefa = {\n",
        "        'descricao': descricao,\n",
        "        'categoria': categoria,\n",
        "        'prioridade': prioridade,\n",
        "        'concluida': False\n",
        "    }\n",
        "    tarefas.append(tarefa)\n",
        "    print(\"Tarefa adicionada com sucesso!\")\n",
        "\n",
        "# Aqui vamos visualizar as tarefas\n",
        "def ver_tarefas(tarefas):\n",
        "    if not tarefas:\n",
        "        print(\"Nenhuma tarefa cadastrada.\")\n",
        "        return\n",
        "\n",
        "    for idx, tarefa in enumerate(tarefas):\n",
        "        status = \"Concluída\" if tarefa['concluida'] else \"Pendente\"\n",
        "        print(f\"\\n{idx + 1}. {tarefa['descricao']} (Categoria: {tarefa['categoria']}) - Prioridade: {tarefa['prioridade']} - Status: {status}\")\n",
        "\n",
        "# Aqui vamos editar uma tarefa\n",
        "def editar_tarefa(tarefas):\n",
        "    ver_tarefas(tarefas)\n",
        "    indice = int(input(\"\\nDigite o número da tarefa que deseja editar: \")) - 1\n",
        "\n",
        "    if 0 <= indice < len(tarefas):\n",
        "        nova_descricao = input(\"Nova descrição (deixe em branco para manter a mesma): \")\n",
        "        nova_categoria = input(\"Nova categoria (deixe em branco para manter a mesma): \")\n",
        "        nova_prioridade = input(\"Nova prioridade (deixe em branco para manter a mesma): \")\n",
        "\n",
        "        if nova_descricao:\n",
        "            tarefas[indice]['descricao'] = nova_descricao\n",
        "        if nova_categoria:\n",
        "            tarefas[indice]['categoria'] = nova_categoria\n",
        "        if nova_prioridade:\n",
        "            tarefas[indice]['prioridade'] = nova_prioridade\n",
        "\n",
        "        print(\"Tarefa atualizada com sucesso!\")\n",
        "    else:\n",
        "        print(\"Tarefa não encontrada!\")\n",
        "\n",
        "# Aqui vamos remover uma tarefa\n",
        "def remover_tarefa(tarefas):\n",
        "    ver_tarefas(tarefas)\n",
        "    indice = int(input(\"\\nDigite o número da tarefa que deseja remover: \")) - 1\n",
        "\n",
        "    if 0 <= indice < len(tarefas):\n",
        "        tarefas.pop(indice)\n",
        "        print(\"Tarefa removida com sucesso!\")\n",
        "    else:\n",
        "        print(\"Tarefa não encontrada!\")\n",
        "\n",
        "# Aqui marcamos uma tarefa como concluída\n",
        "def marcar_concluida(tarefas):\n",
        "    ver_tarefas(tarefas)\n",
        "    indice = int(input(\"\\nDigite o número da tarefa que deseja marcar como concluída: \")) - 1\n",
        "\n",
        "    if 0 <= indice < len(tarefas):\n",
        "        tarefas[indice]['concluida'] = True\n",
        "        print(\"Tarefa marcada como concluída!\")\n",
        "    else:\n",
        "        print(\"Tarefa não encontrada!\")\n",
        "\n",
        "# Aqui temos a Função principal\n",
        "def gerenciar_tarefas():\n",
        "    tarefas = []\n",
        "    while True:\n",
        "        exibir_menu()\n",
        "        escolha = input(\"\\nEscolha uma opção: \")\n",
        "\n",
        "        if escolha == \"1\":\n",
        "            adicionar_tarefa(tarefas)\n",
        "        elif escolha == \"2\":\n",
        "            ver_tarefas(tarefas)\n",
        "        elif escolha == \"3\":\n",
        "            editar_tarefa(tarefas)\n",
        "        elif escolha == \"4\":\n",
        "            remover_tarefa(tarefas)\n",
        "        elif escolha == \"5\":\n",
        "            marcar_concluida(tarefas)\n",
        "        elif escolha == \"6\":\n",
        "            print(\"Saindo...\")\n",
        "            break\n",
        "        else:\n",
        "            print(\"Opção inválida. Tente novamente.\")\n",
        "\n",
        "# Inicia o aplicativo\n",
        "gerenciar_tarefas()\n",
        "\n",
        "\n",
        ""
      ]
    }
  ],
  "metadata": {
    "colab": {
      "provenance": [],
      "authorship_tag": "ABX9TyMVSRoC4mwfsGg2eEExMbH5",
      "include_colab_link": true
    },
    "kernelspec": {
      "display_name": "Python 3",
      "name": "python3"
    },
    "language_info": {
      "name": "python"
    }
  },
  "nbformat": 4,
  "nbformat_minor": 0
}